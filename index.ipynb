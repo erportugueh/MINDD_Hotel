{
 "cells": [
  {
   "cell_type": "code",
   "execution_count": 25,
   "metadata": {},
   "outputs": [],
   "source": [
    "#from imblearn.pipeline import Pipeline\n",
    "#from imblearn.over_sampling import RandomOverSampler\n",
    "#from imblearn.under_sampling import RandomUnderSampler\n",
    "import pandas as pd\n",
    "import numpy as np\n",
    "import seaborn as sns\n",
    "from sklearn.preprocessing import LabelEncoder\n",
    "from sklearn.ensemble import RandomForestClassifier\n",
    "from sklearn.compose import ColumnTransformer\n",
    "from sklearn.impute import SimpleImputer\n",
    "from sklearn.preprocessing import StandardScaler, OneHotEncoder\n",
    "from sklearn.model_selection import train_test_split\n",
    "from sklearn.metrics import classification_report\n",
    "import matplotlib.pyplot as plt\n",
    "from sklearn.linear_model import LinearRegression\n",
    "\n",
    "# Load the data\n",
    "data = pd.read_csv('hotel_booking.csv')\n",
    "pre_processed_data=data"
   ]
  },
  {
   "cell_type": "code",
   "execution_count": null,
   "metadata": {},
   "outputs": [],
   "source": [
    "#1. Data Exploration and Preparation\n",
    "\n",
    "# Get a Summary of Data\n",
    "describe = data.describe()\n",
    "print(\"\\n\"+ str(describe))\n",
    "\n",
    "# Get information about the data\n",
    "hotel_data_info = data.info()\n",
    "# Size\n",
    "size = data.size\n",
    "print('O tamanho do data set é: ' + str(size))"
   ]
  },
  {
   "cell_type": "code",
   "execution_count": null,
   "metadata": {},
   "outputs": [],
   "source": [
    "# View the first rows of the data set and then the last rows\n",
    "first = data.head()\n",
    "last = data.tail()\n",
    "print(\"The first rows are:\\n\" + str(first) + \"\\n The last rows are: \\n\" + str(last))"
   ]
  },
  {
   "cell_type": "code",
   "execution_count": null,
   "metadata": {},
   "outputs": [],
   "source": [
    "# Check which columns are Numeric and which are Categorical\n",
    "dtypes = data.dtypes\n",
    "print(\"Os data types são: \\n\" + str(dtypes) )"
   ]
  },
  {
   "cell_type": "code",
   "execution_count": null,
   "metadata": {},
   "outputs": [],
   "source": [
    "# Number of rows\n",
    "linhas = len(data)\n",
    "print(\"Number of rows: \" + str(linhas))\n",
    "\n",
    "# Number of collumns\n",
    "colunas = len(data.columns)\n",
    "print(\"Number of columns: \" + str(colunas))\n",
    "\n",
    "# Collumns Names\n",
    "col_names = data.columns\n",
    "print(col_names)"
   ]
  },
  {
   "cell_type": "code",
   "execution_count": null,
   "metadata": {},
   "outputs": [],
   "source": [
    "# Display the number of missing values in each column sorted in ascending order\n",
    "print(f\"Number of nulls per column: {data.isnull().sum().sort_values(ascending=False)}\")\n",
    "\n",
    "print(f\"Number of duplicate rows: {data.duplicated().sum()}\")\n"
   ]
  },
  {
   "cell_type": "code",
   "execution_count": null,
   "metadata": {},
   "outputs": [],
   "source": [
    "# Assign a placeholder for missing values\n",
    "data.fillna(value={'children': -1, 'country': 'Missing', 'agent': 'Missing', 'company': 'No Company'}, inplace=True)\n",
    "data.info()\n",
    "print(f\"Number of nulls per column: {data.isnull().sum().sort_values(ascending=False)}\")\n"
   ]
  },
  {
   "cell_type": "code",
   "execution_count": null,
   "metadata": {},
   "outputs": [],
   "source": [
    "# Verify if have duplicate rows\n",
    "print(size)\n",
    "df_duplicates = data.drop_duplicates(inplace = True)\n",
    "print(data.size) # Doesn't have duplicate rows\n",
    "\n",
    "# Check for unique values\n",
    "unique_values = data.nunique()\n",
    "print(unique_values)"
   ]
  },
  {
   "cell_type": "code",
   "execution_count": null,
   "metadata": {},
   "outputs": [],
   "source": [
    "# Separate columns into categorical and numerical\n",
    "categorical_columns = data.select_dtypes(include=['object']).columns.tolist()\n",
    "numerical_columns = data.select_dtypes(include=['int64', 'float64']).columns.tolist()\n",
    "\n",
    "# Display the separated columns\n",
    "print(\"Categorical Columns:\")\n",
    "print(categorical_columns)\n",
    "print(\"\\nNumerical Columns:\")\n",
    "print(numerical_columns)\n",
    "\n",
    "# Check the data types of each column\n",
    "print(data.dtypes)\n",
    "data.info()\n"
   ]
  },
  {
   "cell_type": "code",
   "execution_count": null,
   "metadata": {},
   "outputs": [],
   "source": [
    "# Visualize top 10 countries with reservation canceled\n",
    "cancelled_data= data[data['is_canceled']==1]\n",
    "top_10_country = cancelled_data['country'].value_counts()[:15]\n",
    "\n",
    "\n",
    "plt.figure(figsize=(8, 8))  # Set background color to a light brown\n",
    "plt.title('Top 10 countries with reservation canceled', color=\"black\")\n",
    "plt.pie(top_10_country, autopct='%.2f', labels=top_10_country.index,)\n",
    "plt.show()"
   ]
  },
  {
   "cell_type": "code",
   "execution_count": null,
   "metadata": {},
   "outputs": [],
   "source": [
    "# Get categorical columns\n",
    "\n",
    "excluded_columns = ['name', 'email', 'phone-number', 'credit_card','reservation_status_date']\n",
    "categorical_columns = [col for col in data.select_dtypes(include=['object']).columns if col not in excluded_columns]\n",
    "\n",
    "print(\"Categorical columns: \" + str(categorical_columns))\n",
    "\n",
    "\n",
    "for column in categorical_columns:\n",
    "    sns.countplot(data=data, x=column)\n",
    "    plt.xticks(rotation=45)\n",
    "    plt.show()\n"
   ]
  },
  {
   "cell_type": "code",
   "execution_count": null,
   "metadata": {},
   "outputs": [],
   "source": [
    "\n",
    "# Initialize the LabelEncoder\n",
    "label_encoder = LabelEncoder()\n",
    "\n",
    "# Convert non-numeric columns to values\n",
    "for column in categorical_columns:\n",
    "    # Convert the column to string type to avoid type conflicts\n",
    "    data[column] = data[column].astype(str)\n",
    "    # Apply LabelEncoder\n",
    "    data[column] = label_encoder.fit_transform(data[column])\n",
    "\n",
    "print(data.info())"
   ]
  },
  {
   "cell_type": "code",
   "execution_count": null,
   "metadata": {},
   "outputs": [],
   "source": [
    "print(data['is_canceled'].info())"
   ]
  },
  {
   "cell_type": "code",
   "execution_count": null,
   "metadata": {},
   "outputs": [],
   "source": [
    "# Let's check the correlation between variables \n",
    "numerical_columns = data.select_dtypes(include=['int64', 'float64']).columns.tolist()\n",
    "correlation_num = data[numerical_columns].corr()\n",
    "print(correlation_num)\n",
    "\n",
    "# Create a heatmap\n",
    "plt.figure(figsize=(12, 10))\n",
    "sns.heatmap(correlation_num, annot=True, cmap='coolwarm', fmt=\".2f\", linewidths=.5)\n",
    "plt.title('Correlation Matrix')\n",
    "plt.show()"
   ]
  },
  {
   "cell_type": "code",
   "execution_count": null,
   "metadata": {},
   "outputs": [],
   "source": [
    "def univariate_analysis(data, column_name):\n",
    "    describe= data[column_name].describe()\n",
    "    variance_value = data[column_name].var()\n",
    "    iqr_value = data[column_name].quantile(0.75) - data[column_name].quantile(0.25)\n",
    "    skewness_value = data[column_name].skew()\n",
    "    kurtosis_value = data[column_name].kurtosis()\n",
    "\n",
    "    frequency_distribution = data[column_name].value_counts().head(10)\n",
    "\n",
    "     # Visualization\n",
    "    plt.figure(figsize=(15, 5))\n",
    "\n",
    "    # Histogram\n",
    "    plt.subplot(1, 3, 1)\n",
    "    sns.histplot(data[column_name], kde=True, bins=30)\n",
    "    plt.title(f'Histogram of {column_name}')\n",
    "\n",
    "    # Box Plot\n",
    "    plt.subplot(1, 3, 2)\n",
    "    sns.boxplot(x=data[column_name])\n",
    "    plt.title(f'Box Plot of {column_name}')\n",
    "\n",
    "   \n",
    "    # Bar Chart (for categorical features)\n",
    "    if data[column_name].dtype == 'int' or data[column_name].dtype == 'object':\n",
    "        plt.subplot(1, 3, 3)\n",
    "        sns.countplot(x=data[column_name], order=data[column_name].value_counts().index[:10])\n",
    "        plt.title(f'Bar Chart of {column_name} (Top 10)')\n",
    "\n",
    "\n",
    "    plt.tight_layout()\n",
    "    plt.show()\n",
    "\n",
    "variables_to_analyse=data.columns\n",
    "for varible in variables_to_analyse:\n",
    "    univariate_analysis(data, varible)\n"
   ]
  },
  {
   "cell_type": "code",
   "execution_count": null,
   "metadata": {},
   "outputs": [],
   "source": [
    "# Passo 2: Univariate Analysis (Distribution of individual features)\n",
    "def bivariate_analysis(data, column_name):\n",
    "    \n",
    "\n",
    "\n",
    "    Objective_col = data.columns[1]\n",
    "\n",
    "    # Visualization\n",
    "    plt.figure(figsize=(15, 5))\n",
    "\n",
    "    sns.barplot(data=data, x=Objective_col, y=column_name)\n",
    "   # plt.savefig(f'bivariate_analysis/bar_plot_{column_name}.png')\n",
    "\n",
    "    sns.displot(data=data, x= column_name, hue=Objective_col, kind=\"kde\")\n",
    "    #plt.savefig(f'bivariate_analysis/dis_plot_kde_{column_name}.png')\n",
    "\n",
    "    fig, axes = plt.subplots(1, 2, figsize=(15, 5), sharey=True)\n",
    "\n",
    "    # Get unique values in the last_col (your categorical variable)\n",
    "    unique_types = data[Objective_col].unique()\n",
    "\n",
    "   \n",
    "   # Loop over each unique type and perform linear regression\n",
    "    for i, t in enumerate(unique_types):\n",
    "        # Filter data for the current type\n",
    "        subset = data[data[Objective_col] == t]\n",
    "        \n",
    "        X = subset[column_name].values.reshape(-1, 1)\n",
    "        y = subset[column_name].values\n",
    "        model = LinearRegression()\n",
    "        model.fit(X, y)\n",
    "        \n",
    "        m = model.coef_[0]\n",
    "        b = model.intercept_\n",
    "        \n",
    "        axes[i].scatter(X, y, color='blue', alpha=0.5)\n",
    "        \n",
    "        axes[i].plot(X, model.predict(X), color='red', label=f'y = {m:.2f}x + {b:.2f}')\n",
    "        \n",
    "        # Set the title to show the current type and regression equation\n",
    "        axes[i].set_title(f'{t}')\n",
    "        axes[i].set_xlabel(column_name)\n",
    "\n",
    "    # Set the common ylabel for the whole figure\n",
    "    axes[0].set_ylabel('Values')\n",
    "\n",
    "    # Display the plot\n",
    "    plt.suptitle(f'Scatter Plots and Regression Lines for Each Type in {Objective_col}')\n",
    " \n",
    "\n",
    "    plt.tight_layout()\n",
    "    #plt.savefig(f'bivariate_analysis/scatter_plot_{column_name}.png')\n",
    "    plt.show()\n",
    "\n",
    "\n",
    "\n",
    "variables_to_analyse=numerical_columns\n",
    "\n",
    "# Realizar a análise bivariada para cada variável\n",
    "for variable in variables_to_analyse:\n",
    "    bivariate_analysis(data, variable)\n",
    "\n",
    "\n"
   ]
  },
  {
   "cell_type": "code",
   "execution_count": null,
   "metadata": {},
   "outputs": [],
   "source": [
    "\n",
    "categorical_columns = data.select_dtypes(include=['object', 'category']).columns\n",
    "# Get the number of unique values for categorical columns\n",
    "unique_values_per_categorical_column = data[categorical_columns].nunique()\n",
    "\n",
    "# Print the result\n",
    "print(unique_values_per_categorical_column)\n",
    "\n",
    "# Function to display the counts of is_canceled for each unique value in the column\n",
    "def display_cancellation_counts(data, column, top_n=10):\n",
    "    unique_vals = data[column].nunique()\n",
    "    \n",
    "    # Group by the column and the 'is_canceled' column, and count occurrences\n",
    "    grouped = data.groupby([column, 'is_canceled']).size().unstack(fill_value=0)\n",
    "    \n",
    "    if unique_vals <= top_n:\n",
    "        # If the number of unique values is small, show all counts\n",
    "        print(f\"\\nColumn: {column}\")\n",
    "        print(grouped)\n",
    "    else:\n",
    "        # If there are many unique values, show the top N values based on their total counts\n",
    "        top_values = data[column].value_counts().head(top_n).index\n",
    "        print(f\"\\nColumn: {column} (Top {top_n} out of {unique_vals} unique values)\")\n",
    "        print(grouped.loc[top_values])\n",
    "\n",
    "# Apply the function for each column except 'is_canceled'\n",
    "for column in categorical_columns:\n",
    "     display_cancellation_counts(data, column)"
   ]
  },
  {
   "cell_type": "code",
   "execution_count": null,
   "metadata": {},
   "outputs": [],
   "source": [
    "\n",
    "def bivariate_categorical(data, varaible):\n",
    "    plt.figure(figsize=(15, 15))\n",
    "\n",
    "    sns.countplot(data=data, x=variable, hue=data['is_canceled'])\n",
    "    # Add labels and title\n",
    "    plt.xlabel(f'{variable}')\n",
    "    plt.ylabel('Count')\n",
    "    plt.title('Count of is_canceled Type by 'f'{variable}')\n",
    "    plt.legend(title='Is_canceled')\n",
    "\n",
    "\n",
    "    plt.show()\n",
    "\n",
    "for variable in categorical_columns:\n",
    "    bivariate_categorical(data, variable)\n",
    "\n",
    "   \n"
   ]
  },
  {
   "cell_type": "code",
   "execution_count": null,
   "metadata": {},
   "outputs": [],
   "source": [
    "print(data.info())\n"
   ]
  }
 ],
 "metadata": {
  "kernelspec": {
   "display_name": "Python 3",
   "language": "python",
   "name": "python3"
  },
  "language_info": {
   "codemirror_mode": {
    "name": "ipython",
    "version": 3
   },
   "file_extension": ".py",
   "mimetype": "text/x-python",
   "name": "python",
   "nbconvert_exporter": "python",
   "pygments_lexer": "ipython3",
   "version": "3.11.6"
  }
 },
 "nbformat": 4,
 "nbformat_minor": 2
}
